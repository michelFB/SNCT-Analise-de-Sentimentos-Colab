{
  "nbformat": 4,
  "nbformat_minor": 0,
  "metadata": {
    "colab": {
      "name": "ANÁLISE DE SENTIMENTOS SNCT .ipynb",
      "provenance": [],
      "collapsed_sections": [],
      "toc_visible": true,
      "mount_file_id": "1Q2DfftgOXb-XkuRWwEy4rkWSupf9HXr3",
      "authorship_tag": "ABX9TyM/g6W5g7zL45Ac+CcD/1Bk",
      "include_colab_link": true
    },
    "kernelspec": {
      "name": "python3",
      "display_name": "Python 3"
    }
  },
  "cells": [
    {
      "cell_type": "markdown",
      "metadata": {
        "id": "view-in-github",
        "colab_type": "text"
      },
      "source": [
        "<a href=\"https://colab.research.google.com/github/michelFB/SNCT-Analise-de-Sentimentos-Colab/blob/main/AN%C3%81LISE_DE_SENTIMENTOS_SNCT_.ipynb\" target=\"_parent\"><img src=\"https://colab.research.google.com/assets/colab-badge.svg\" alt=\"Open In Colab\"/></a>"
      ]
    },
    {
      "cell_type": "markdown",
      "metadata": {
        "id": "wZzovC59i-dJ"
      },
      "source": [
        "# Minerando Textos - SNCT EUCLIDES DA CUNHA\n",
        "Facilitador: Michel Ferreira\n",
        "\n",
        "\n"
      ]
    },
    {
      "cell_type": "markdown",
      "metadata": {
        "id": "pUGvC2hkjGHu"
      },
      "source": [
        "## Análise de sentimentos usando **Machine Learning**\n",
        "\n",
        "![alt text](http://www.ecomp.poli.br/amam/wp-content/uploads/2018/09/3_ROBO-MOVEL_300x200.png)\n"
      ]
    },
    {
      "cell_type": "markdown",
      "metadata": {
        "id": "uf-fLNlsoi8O"
      },
      "source": [
        "Conectar o Google Drive a Sessão para acessar os arquivos da nuvem."
      ]
    },
    {
      "cell_type": "code",
      "metadata": {
        "id": "mNkVlMr_oSGX"
      },
      "source": [
        "# from google.colab import drive\n",
        "# drive.mount('/content/drive')"
      ],
      "execution_count": null,
      "outputs": []
    },
    {
      "cell_type": "code",
      "metadata": {
        "id": "nH27HyRQo3jW"
      },
      "source": [
        "# importando biblioteca Pandas\n",
        "# import pandas as pd\n",
        "# Obtendo o conjunto de dados do arquivo na sessão\n",
        "# df = pd.read_csv('/content/drive/My Drive/Colab Notebooks/SNCT2020EUC/Tweets_Mg.csv')"
      ],
      "execution_count": null,
      "outputs": []
    },
    {
      "cell_type": "markdown",
      "metadata": {
        "id": "8S22zzMRFHfs"
      },
      "source": [
        "# SELEÇÃO DOS DADOS"
      ]
    },
    {
      "cell_type": "code",
      "metadata": {
        "id": "As-_inMapvza"
      },
      "source": [
        "# Obtendo o conjunto de dados do arquivo através da conexão com o GDrive\n",
        "# Base de dados pública sedida pelo governo do Estado de Minas Gerais.\n",
        "\n",
        "import pandas as pd\n",
        "df = pd.read_csv('/content/drive/My Drive/Colab Notebooks/SNCT2020EUC/Tweets_Mg.csv')"
      ],
      "execution_count": null,
      "outputs": []
    },
    {
      "cell_type": "markdown",
      "metadata": {
        "id": "s9XrpZ9J4Axj"
      },
      "source": [
        "### Trabalhando com Dataframes Pandas"
      ]
    },
    {
      "cell_type": "code",
      "metadata": {
        "id": "QqNoVqAg5sWd",
        "outputId": "f32d517a-0cf6-4771-c9b2-409d95893a3a",
        "colab": {
          "base_uri": "https://localhost:8080/",
          "height": 1000
        }
      },
      "source": [
        "df"
      ],
      "execution_count": null,
      "outputs": [
        {
          "output_type": "execute_result",
          "data": {
            "text/html": [
              "<div>\n",
              "<style scoped>\n",
              "    .dataframe tbody tr th:only-of-type {\n",
              "        vertical-align: middle;\n",
              "    }\n",
              "\n",
              "    .dataframe tbody tr th {\n",
              "        vertical-align: top;\n",
              "    }\n",
              "\n",
              "    .dataframe thead th {\n",
              "        text-align: right;\n",
              "    }\n",
              "</style>\n",
              "<table border=\"1\" class=\"dataframe\">\n",
              "  <thead>\n",
              "    <tr style=\"text-align: right;\">\n",
              "      <th></th>\n",
              "      <th>Unnamed: 0</th>\n",
              "      <th>Created At</th>\n",
              "      <th>Text</th>\n",
              "      <th>Geo Coordinates.latitude</th>\n",
              "      <th>Geo Coordinates.longitude</th>\n",
              "      <th>User Location</th>\n",
              "      <th>Username</th>\n",
              "      <th>User Screen Name</th>\n",
              "      <th>Retweet Count</th>\n",
              "      <th>Classificacao</th>\n",
              "      <th>Observação</th>\n",
              "      <th>Unnamed: 10</th>\n",
              "      <th>Unnamed: 11</th>\n",
              "      <th>Unnamed: 12</th>\n",
              "      <th>Unnamed: 13</th>\n",
              "      <th>Unnamed: 14</th>\n",
              "      <th>Unnamed: 15</th>\n",
              "      <th>Unnamed: 16</th>\n",
              "      <th>Unnamed: 17</th>\n",
              "      <th>Unnamed: 18</th>\n",
              "      <th>Unnamed: 19</th>\n",
              "      <th>Unnamed: 20</th>\n",
              "      <th>Unnamed: 21</th>\n",
              "      <th>Unnamed: 22</th>\n",
              "      <th>Unnamed: 23</th>\n",
              "      <th>Unnamed: 24</th>\n",
              "    </tr>\n",
              "  </thead>\n",
              "  <tbody>\n",
              "    <tr>\n",
              "      <th>0</th>\n",
              "      <td>0</td>\n",
              "      <td>Sun Jan 08 01:22:05 +0000 2017</td>\n",
              "      <td>���⛪ @ Catedral de Santo Antônio - Governador ...</td>\n",
              "      <td>NaN</td>\n",
              "      <td>NaN</td>\n",
              "      <td>Brasil</td>\n",
              "      <td>Leonardo C Schneider</td>\n",
              "      <td>LeoCSchneider</td>\n",
              "      <td>0</td>\n",
              "      <td>Neutro</td>\n",
              "      <td>NaN</td>\n",
              "      <td>NaN</td>\n",
              "      <td>NaN</td>\n",
              "      <td>NaN</td>\n",
              "      <td>NaN</td>\n",
              "      <td>NaN</td>\n",
              "      <td>NaN</td>\n",
              "      <td>NaN</td>\n",
              "      <td>NaN</td>\n",
              "      <td>NaN</td>\n",
              "      <td>NaN</td>\n",
              "      <td>NaN</td>\n",
              "      <td>NaN</td>\n",
              "      <td>NaN</td>\n",
              "      <td>NaN</td>\n",
              "      <td>NaN</td>\n",
              "    </tr>\n",
              "    <tr>\n",
              "      <th>1</th>\n",
              "      <td>1</td>\n",
              "      <td>Sun Jan 08 01:49:01 +0000 2017</td>\n",
              "      <td>� @ Governador Valadares, Minas Gerais https:/...</td>\n",
              "      <td>-41.9333</td>\n",
              "      <td>-18.85</td>\n",
              "      <td>NaN</td>\n",
              "      <td>Wândell</td>\n",
              "      <td>klefnews</td>\n",
              "      <td>0</td>\n",
              "      <td>Neutro</td>\n",
              "      <td>NaN</td>\n",
              "      <td>NaN</td>\n",
              "      <td>NaN</td>\n",
              "      <td>NaN</td>\n",
              "      <td>NaN</td>\n",
              "      <td>NaN</td>\n",
              "      <td>NaN</td>\n",
              "      <td>NaN</td>\n",
              "      <td>NaN</td>\n",
              "      <td>NaN</td>\n",
              "      <td>NaN</td>\n",
              "      <td>NaN</td>\n",
              "      <td>NaN</td>\n",
              "      <td>NaN</td>\n",
              "      <td>NaN</td>\n",
              "      <td>NaN</td>\n",
              "    </tr>\n",
              "    <tr>\n",
              "      <th>2</th>\n",
              "      <td>2</td>\n",
              "      <td>Sun Jan 08 01:01:46 +0000 2017</td>\n",
              "      <td>�� @ Governador Valadares, Minas Gerais https:...</td>\n",
              "      <td>-41.9333</td>\n",
              "      <td>-18.85</td>\n",
              "      <td>NaN</td>\n",
              "      <td>Wândell</td>\n",
              "      <td>klefnews</td>\n",
              "      <td>0</td>\n",
              "      <td>Neutro</td>\n",
              "      <td>NaN</td>\n",
              "      <td>NaN</td>\n",
              "      <td>NaN</td>\n",
              "      <td>NaN</td>\n",
              "      <td>NaN</td>\n",
              "      <td>NaN</td>\n",
              "      <td>NaN</td>\n",
              "      <td>NaN</td>\n",
              "      <td>NaN</td>\n",
              "      <td>NaN</td>\n",
              "      <td>NaN</td>\n",
              "      <td>NaN</td>\n",
              "      <td>NaN</td>\n",
              "      <td>NaN</td>\n",
              "      <td>NaN</td>\n",
              "      <td>NaN</td>\n",
              "    </tr>\n",
              "    <tr>\n",
              "      <th>3</th>\n",
              "      <td>3</td>\n",
              "      <td>Wed Jan 04 21:43:51 +0000 2017</td>\n",
              "      <td>��� https://t.co/BnDsO34qK0</td>\n",
              "      <td>NaN</td>\n",
              "      <td>NaN</td>\n",
              "      <td>NaN</td>\n",
              "      <td>Ana estudando</td>\n",
              "      <td>estudandoconcur</td>\n",
              "      <td>0</td>\n",
              "      <td>Neutro</td>\n",
              "      <td>NaN</td>\n",
              "      <td>NaN</td>\n",
              "      <td>NaN</td>\n",
              "      <td>NaN</td>\n",
              "      <td>NaN</td>\n",
              "      <td>NaN</td>\n",
              "      <td>NaN</td>\n",
              "      <td>NaN</td>\n",
              "      <td>NaN</td>\n",
              "      <td>NaN</td>\n",
              "      <td>NaN</td>\n",
              "      <td>NaN</td>\n",
              "      <td>NaN</td>\n",
              "      <td>NaN</td>\n",
              "      <td>NaN</td>\n",
              "      <td>NaN</td>\n",
              "    </tr>\n",
              "    <tr>\n",
              "      <th>4</th>\n",
              "      <td>4</td>\n",
              "      <td>Mon Jan 09 15:08:21 +0000 2017</td>\n",
              "      <td>��� PSOL vai questionar aumento de vereadores ...</td>\n",
              "      <td>NaN</td>\n",
              "      <td>NaN</td>\n",
              "      <td>NaN</td>\n",
              "      <td>Emily</td>\n",
              "      <td>Milly777</td>\n",
              "      <td>0</td>\n",
              "      <td>Negativo</td>\n",
              "      <td>NaN</td>\n",
              "      <td>NaN</td>\n",
              "      <td>NaN</td>\n",
              "      <td>NaN</td>\n",
              "      <td>NaN</td>\n",
              "      <td>NaN</td>\n",
              "      <td>NaN</td>\n",
              "      <td>NaN</td>\n",
              "      <td>NaN</td>\n",
              "      <td>NaN</td>\n",
              "      <td>NaN</td>\n",
              "      <td>NaN</td>\n",
              "      <td>NaN</td>\n",
              "      <td>NaN</td>\n",
              "      <td>NaN</td>\n",
              "      <td>NaN</td>\n",
              "    </tr>\n",
              "    <tr>\n",
              "      <th>...</th>\n",
              "      <td>...</td>\n",
              "      <td>...</td>\n",
              "      <td>...</td>\n",
              "      <td>...</td>\n",
              "      <td>...</td>\n",
              "      <td>...</td>\n",
              "      <td>...</td>\n",
              "      <td>...</td>\n",
              "      <td>...</td>\n",
              "      <td>...</td>\n",
              "      <td>...</td>\n",
              "      <td>...</td>\n",
              "      <td>...</td>\n",
              "      <td>...</td>\n",
              "      <td>...</td>\n",
              "      <td>...</td>\n",
              "      <td>...</td>\n",
              "      <td>...</td>\n",
              "      <td>...</td>\n",
              "      <td>...</td>\n",
              "      <td>...</td>\n",
              "      <td>...</td>\n",
              "      <td>...</td>\n",
              "      <td>...</td>\n",
              "      <td>...</td>\n",
              "      <td>...</td>\n",
              "    </tr>\n",
              "    <tr>\n",
              "      <th>8194</th>\n",
              "      <td>8194</td>\n",
              "      <td>Thu Feb 09 11:48:07 +0000 2017</td>\n",
              "      <td>Trio é preso suspeito de roubo, tráfico e abus...</td>\n",
              "      <td>NaN</td>\n",
              "      <td>NaN</td>\n",
              "      <td>NaN</td>\n",
              "      <td>Ana Lúcia</td>\n",
              "      <td>lapiseirapentel</td>\n",
              "      <td>0</td>\n",
              "      <td>Positivo</td>\n",
              "      <td>NaN</td>\n",
              "      <td>NaN</td>\n",
              "      <td>NaN</td>\n",
              "      <td>NaN</td>\n",
              "      <td>NaN</td>\n",
              "      <td>NaN</td>\n",
              "      <td>NaN</td>\n",
              "      <td>NaN</td>\n",
              "      <td>NaN</td>\n",
              "      <td>NaN</td>\n",
              "      <td>NaN</td>\n",
              "      <td>NaN</td>\n",
              "      <td>NaN</td>\n",
              "      <td>NaN</td>\n",
              "      <td>NaN</td>\n",
              "      <td>NaN</td>\n",
              "    </tr>\n",
              "    <tr>\n",
              "      <th>8195</th>\n",
              "      <td>8195</td>\n",
              "      <td>Thu Feb 09 12:10:19 +0000 2017</td>\n",
              "      <td>Trio é preso suspeito de roubo, tráfico e abus...</td>\n",
              "      <td>NaN</td>\n",
              "      <td>NaN</td>\n",
              "      <td>Belo Horizonte - Minas Gerais</td>\n",
              "      <td>Marcelo Rezende</td>\n",
              "      <td>Televans</td>\n",
              "      <td>0</td>\n",
              "      <td>Positivo</td>\n",
              "      <td>NaN</td>\n",
              "      <td>NaN</td>\n",
              "      <td>NaN</td>\n",
              "      <td>NaN</td>\n",
              "      <td>NaN</td>\n",
              "      <td>NaN</td>\n",
              "      <td>NaN</td>\n",
              "      <td>NaN</td>\n",
              "      <td>NaN</td>\n",
              "      <td>NaN</td>\n",
              "      <td>NaN</td>\n",
              "      <td>NaN</td>\n",
              "      <td>NaN</td>\n",
              "      <td>NaN</td>\n",
              "      <td>NaN</td>\n",
              "      <td>NaN</td>\n",
              "    </tr>\n",
              "    <tr>\n",
              "      <th>8196</th>\n",
              "      <td>8196</td>\n",
              "      <td>Thu Feb 09 12:04:17 +0000 2017</td>\n",
              "      <td>Trio é preso suspeito de roubo, tráfico e abus...</td>\n",
              "      <td>NaN</td>\n",
              "      <td>NaN</td>\n",
              "      <td>Guarulhos - SP</td>\n",
              "      <td>Leonardo Nascimento</td>\n",
              "      <td>leonardogru</td>\n",
              "      <td>0</td>\n",
              "      <td>Positivo</td>\n",
              "      <td>NaN</td>\n",
              "      <td>NaN</td>\n",
              "      <td>NaN</td>\n",
              "      <td>NaN</td>\n",
              "      <td>NaN</td>\n",
              "      <td>NaN</td>\n",
              "      <td>NaN</td>\n",
              "      <td>NaN</td>\n",
              "      <td>NaN</td>\n",
              "      <td>NaN</td>\n",
              "      <td>NaN</td>\n",
              "      <td>NaN</td>\n",
              "      <td>NaN</td>\n",
              "      <td>NaN</td>\n",
              "      <td>NaN</td>\n",
              "      <td>NaN</td>\n",
              "    </tr>\n",
              "    <tr>\n",
              "      <th>8197</th>\n",
              "      <td>8197</td>\n",
              "      <td>Thu Feb 09 12:10:04 +0000 2017</td>\n",
              "      <td>Trio é preso suspeito de roubo, tráfico e abus...</td>\n",
              "      <td>NaN</td>\n",
              "      <td>NaN</td>\n",
              "      <td>Brasil Natal/RN</td>\n",
              "      <td>Lucas Medeiros �©™</td>\n",
              "      <td>parabolicalucas</td>\n",
              "      <td>0</td>\n",
              "      <td>Positivo</td>\n",
              "      <td>NaN</td>\n",
              "      <td>NaN</td>\n",
              "      <td>NaN</td>\n",
              "      <td>NaN</td>\n",
              "      <td>NaN</td>\n",
              "      <td>NaN</td>\n",
              "      <td>NaN</td>\n",
              "      <td>NaN</td>\n",
              "      <td>NaN</td>\n",
              "      <td>NaN</td>\n",
              "      <td>NaN</td>\n",
              "      <td>NaN</td>\n",
              "      <td>NaN</td>\n",
              "      <td>NaN</td>\n",
              "      <td>NaN</td>\n",
              "      <td>NaN</td>\n",
              "    </tr>\n",
              "    <tr>\n",
              "      <th>8198</th>\n",
              "      <td>8198</td>\n",
              "      <td>Tue Feb 07 15:01:30 +0000 2017</td>\n",
              "      <td>Trio suspeito de roubo de cargas é preso em Sa...</td>\n",
              "      <td>NaN</td>\n",
              "      <td>NaN</td>\n",
              "      <td>Belo Horizonte - MG</td>\n",
              "      <td>RecordTV Minas</td>\n",
              "      <td>tvrecordminas</td>\n",
              "      <td>0</td>\n",
              "      <td>Positivo</td>\n",
              "      <td>NaN</td>\n",
              "      <td>NaN</td>\n",
              "      <td>NaN</td>\n",
              "      <td>NaN</td>\n",
              "      <td>NaN</td>\n",
              "      <td>NaN</td>\n",
              "      <td>NaN</td>\n",
              "      <td>NaN</td>\n",
              "      <td>NaN</td>\n",
              "      <td>NaN</td>\n",
              "      <td>NaN</td>\n",
              "      <td>NaN</td>\n",
              "      <td>NaN</td>\n",
              "      <td>NaN</td>\n",
              "      <td>NaN</td>\n",
              "      <td>NaN</td>\n",
              "    </tr>\n",
              "  </tbody>\n",
              "</table>\n",
              "<p>8199 rows × 26 columns</p>\n",
              "</div>"
            ],
            "text/plain": [
              "      Unnamed: 0                      Created At  ... Unnamed: 23  Unnamed: 24\n",
              "0              0  Sun Jan 08 01:22:05 +0000 2017  ...         NaN          NaN\n",
              "1              1  Sun Jan 08 01:49:01 +0000 2017  ...         NaN          NaN\n",
              "2              2  Sun Jan 08 01:01:46 +0000 2017  ...         NaN          NaN\n",
              "3              3  Wed Jan 04 21:43:51 +0000 2017  ...         NaN          NaN\n",
              "4              4  Mon Jan 09 15:08:21 +0000 2017  ...         NaN          NaN\n",
              "...          ...                             ...  ...         ...          ...\n",
              "8194        8194  Thu Feb 09 11:48:07 +0000 2017  ...         NaN          NaN\n",
              "8195        8195  Thu Feb 09 12:10:19 +0000 2017  ...         NaN          NaN\n",
              "8196        8196  Thu Feb 09 12:04:17 +0000 2017  ...         NaN          NaN\n",
              "8197        8197  Thu Feb 09 12:10:04 +0000 2017  ...         NaN          NaN\n",
              "8198        8198  Tue Feb 07 15:01:30 +0000 2017  ...         NaN          NaN\n",
              "\n",
              "[8199 rows x 26 columns]"
            ]
          },
          "metadata": {
            "tags": []
          },
          "execution_count": 5
        }
      ]
    },
    {
      "cell_type": "code",
      "metadata": {
        "id": "gFhGxtz-qLCN",
        "outputId": "796ac96b-bdf4-448d-b2f4-7380769e0a35",
        "colab": {
          "base_uri": "https://localhost:8080/"
        }
      },
      "source": [
        "# Exibe as colunas ou atributos do conjunto de dados\n",
        "df.columns"
      ],
      "execution_count": null,
      "outputs": [
        {
          "output_type": "execute_result",
          "data": {
            "text/plain": [
              "Index(['Unnamed: 0', 'Created At', 'Text', 'Geo Coordinates.latitude',\n",
              "       'Geo Coordinates.longitude', 'User Location', 'Username',\n",
              "       'User Screen Name', 'Retweet Count', 'Classificacao', 'Observação',\n",
              "       'Unnamed: 10', 'Unnamed: 11', 'Unnamed: 12', 'Unnamed: 13',\n",
              "       'Unnamed: 14', 'Unnamed: 15', 'Unnamed: 16', 'Unnamed: 17',\n",
              "       'Unnamed: 18', 'Unnamed: 19', 'Unnamed: 20', 'Unnamed: 21',\n",
              "       'Unnamed: 22', 'Unnamed: 23', 'Unnamed: 24'],\n",
              "      dtype='object')"
            ]
          },
          "metadata": {
            "tags": []
          },
          "execution_count": 6
        }
      ]
    },
    {
      "cell_type": "code",
      "metadata": {
        "id": "Fr2yIDn50Lin"
      },
      "source": [
        "dfTweet = pd.DataFrame(df, columns=['Text','Username','Classificacao'])"
      ],
      "execution_count": null,
      "outputs": []
    },
    {
      "cell_type": "code",
      "metadata": {
        "id": "0czQLwYe06wd",
        "outputId": "3e8c2da9-dfa2-43d5-f56f-2c17368d34bc",
        "colab": {
          "base_uri": "https://localhost:8080/",
          "height": 359
        }
      },
      "source": [
        "dfTweet.head(10)"
      ],
      "execution_count": null,
      "outputs": [
        {
          "output_type": "execute_result",
          "data": {
            "text/html": [
              "<div>\n",
              "<style scoped>\n",
              "    .dataframe tbody tr th:only-of-type {\n",
              "        vertical-align: middle;\n",
              "    }\n",
              "\n",
              "    .dataframe tbody tr th {\n",
              "        vertical-align: top;\n",
              "    }\n",
              "\n",
              "    .dataframe thead th {\n",
              "        text-align: right;\n",
              "    }\n",
              "</style>\n",
              "<table border=\"1\" class=\"dataframe\">\n",
              "  <thead>\n",
              "    <tr style=\"text-align: right;\">\n",
              "      <th></th>\n",
              "      <th>Text</th>\n",
              "      <th>Username</th>\n",
              "      <th>Classificacao</th>\n",
              "    </tr>\n",
              "  </thead>\n",
              "  <tbody>\n",
              "    <tr>\n",
              "      <th>0</th>\n",
              "      <td>���⛪ @ Catedral de Santo Antônio - Governador ...</td>\n",
              "      <td>Leonardo C Schneider</td>\n",
              "      <td>Neutro</td>\n",
              "    </tr>\n",
              "    <tr>\n",
              "      <th>1</th>\n",
              "      <td>� @ Governador Valadares, Minas Gerais https:/...</td>\n",
              "      <td>Wândell</td>\n",
              "      <td>Neutro</td>\n",
              "    </tr>\n",
              "    <tr>\n",
              "      <th>2</th>\n",
              "      <td>�� @ Governador Valadares, Minas Gerais https:...</td>\n",
              "      <td>Wândell</td>\n",
              "      <td>Neutro</td>\n",
              "    </tr>\n",
              "    <tr>\n",
              "      <th>3</th>\n",
              "      <td>��� https://t.co/BnDsO34qK0</td>\n",
              "      <td>Ana estudando</td>\n",
              "      <td>Neutro</td>\n",
              "    </tr>\n",
              "    <tr>\n",
              "      <th>4</th>\n",
              "      <td>��� PSOL vai questionar aumento de vereadores ...</td>\n",
              "      <td>Emily</td>\n",
              "      <td>Negativo</td>\n",
              "    </tr>\n",
              "    <tr>\n",
              "      <th>5</th>\n",
              "      <td>\" bom é bandido morto\"\\nDeputado Cabo Júlio é ...</td>\n",
              "      <td>Maristela Guimarães</td>\n",
              "      <td>Neutro</td>\n",
              "    </tr>\n",
              "    <tr>\n",
              "      <th>6</th>\n",
              "      <td>\"..E 25% dos mineiros dizem não torcer para ti...</td>\n",
              "      <td>Adriano</td>\n",
              "      <td>Neutro</td>\n",
              "    </tr>\n",
              "    <tr>\n",
              "      <th>7</th>\n",
              "      <td>\"A gigantesca barba do mal\" em destaque no cad...</td>\n",
              "      <td>Editora Nemo</td>\n",
              "      <td>Neutro</td>\n",
              "    </tr>\n",
              "    <tr>\n",
              "      <th>8</th>\n",
              "      <td>\"BB e governo de Minas travam disputa sobre de...</td>\n",
              "      <td>Minas Previ</td>\n",
              "      <td>Negativo</td>\n",
              "    </tr>\n",
              "    <tr>\n",
              "      <th>9</th>\n",
              "      <td>\"com vcs bh fica pequena!\" Belo Horizonte (pro...</td>\n",
              "      <td>Marina.</td>\n",
              "      <td>Neutro</td>\n",
              "    </tr>\n",
              "  </tbody>\n",
              "</table>\n",
              "</div>"
            ],
            "text/plain": [
              "                                                Text  ... Classificacao\n",
              "0  ���⛪ @ Catedral de Santo Antônio - Governador ...  ...        Neutro\n",
              "1  � @ Governador Valadares, Minas Gerais https:/...  ...        Neutro\n",
              "2  �� @ Governador Valadares, Minas Gerais https:...  ...        Neutro\n",
              "3                        ��� https://t.co/BnDsO34qK0  ...        Neutro\n",
              "4  ��� PSOL vai questionar aumento de vereadores ...  ...      Negativo\n",
              "5  \" bom é bandido morto\"\\nDeputado Cabo Júlio é ...  ...        Neutro\n",
              "6  \"..E 25% dos mineiros dizem não torcer para ti...  ...        Neutro\n",
              "7  \"A gigantesca barba do mal\" em destaque no cad...  ...        Neutro\n",
              "8  \"BB e governo de Minas travam disputa sobre de...  ...      Negativo\n",
              "9  \"com vcs bh fica pequena!\" Belo Horizonte (pro...  ...        Neutro\n",
              "\n",
              "[10 rows x 3 columns]"
            ]
          },
          "metadata": {
            "tags": []
          },
          "execution_count": 8
        }
      ]
    },
    {
      "cell_type": "code",
      "metadata": {
        "id": "4bLypw7EqLIs",
        "outputId": "8689a3c4-223f-4ad8-b1f0-e3148b919041",
        "colab": {
          "base_uri": "https://localhost:8080/"
        }
      },
      "source": [
        "#Conta a quantidade de linhas twites netros, ositivos e negativos\n",
        "dfTweet.Classificacao.value_counts()"
      ],
      "execution_count": null,
      "outputs": [
        {
          "output_type": "execute_result",
          "data": {
            "text/plain": [
              "Positivo    3300\n",
              "Neutro      2453\n",
              "Negativo    2446\n",
              "Name: Classificacao, dtype: int64"
            ]
          },
          "metadata": {
            "tags": []
          },
          "execution_count": 9
        }
      ]
    },
    {
      "cell_type": "code",
      "metadata": {
        "id": "vIj-sGeaf-eY"
      },
      "source": [
        "classesPadrao = ['Positivo','Negativo','Neutro']"
      ],
      "execution_count": null,
      "outputs": []
    },
    {
      "cell_type": "markdown",
      "metadata": {
        "id": "Qo5mUy0_zX9O"
      },
      "source": [
        "# PRÉ PROCESSAMENTO"
      ]
    },
    {
      "cell_type": "markdown",
      "metadata": {
        "id": "HuzOD0Ow4TzB"
      },
      "source": [
        "### Normalização dos dados\n",
        "\n",
        "*   Transformar letras para minúsculas \n",
        "*   Remoção de caracteres especiais\n",
        "*   Remoção de Links\n",
        "*   Substituição de Gírias"
      ]
    },
    {
      "cell_type": "code",
      "metadata": {
        "id": "-uuWVtUyK99v"
      },
      "source": [
        "dfTweet.drop_duplicates(['Text'], inplace=True)\n",
        "dfTweet.reset_index(drop=True, inplace=True)"
      ],
      "execution_count": null,
      "outputs": []
    },
    {
      "cell_type": "code",
      "metadata": {
        "id": "9n8mzZnHy9En",
        "outputId": "d3362aa7-89c5-43d4-dd67-2d69deb695bf",
        "colab": {
          "base_uri": "https://localhost:8080/"
        }
      },
      "source": [
        "dfTweet.Classificacao.value_counts()"
      ],
      "execution_count": null,
      "outputs": [
        {
          "output_type": "execute_result",
          "data": {
            "text/plain": [
              "Positivo    2840\n",
              "Neutro      1974\n",
              "Negativo     951\n",
              "Name: Classificacao, dtype: int64"
            ]
          },
          "metadata": {
            "tags": []
          },
          "execution_count": 12
        }
      ]
    },
    {
      "cell_type": "code",
      "metadata": {
        "id": "6AjBHPdGzT4e"
      },
      "source": [
        "import re\n",
        "def Normalizacao(instancia):\n",
        "    instancia = instancia.lower()                                   # Palavras em letra minuscula\n",
        "    instancia = re.sub(r\"http\\S+\", \"\", instancia).lower().replace(',','').replace('.','').replace(';','').replace('-','').replace('@','').replace('#','').replace('%','')\n",
        "    instancia = re.sub(r\"http\\S+\", \"\", instancia)                   # Remoção de links\n",
        "    instancia = re.sub('[-10-9]', '', instancia)                    # Remoção de numeros\n",
        "    instancia = re.sub(r'[-./?!,\"#:;()\\']','',instancia)             # Remoção de caracteres especiais\n",
        "    instancia = re.sub(\"\\d+\\w*\",\"\", instancia)                      # Removendo Letras com numeros\n",
        "    instancia = instancia.rstrip().lstrip()                         # remove excesso de espaços\n",
        "    \n",
        "    \n",
        "    #  Substituindo abreviaturas do mundo digital em português\n",
        "    Girias = [' agr ', ' lgl ', ' nss ',' vc ',' vcs ',' tbm ',' n ',' ñ ',' pfv ',' oq ',' mta ', ' qndo ', 'qnt']\n",
        "    Girias_subs = [' agora ',' legal ',' nossa ', ' você ',' vocês ',' também ',' não ',' não ',' por favor ',' o que ',' muita ',\n",
        "                          ' quando ', 'quanto']\n",
        "    for i in range (len(Girias)):\n",
        "        instancia = instancia.replace(Girias[i],Girias_subs[i])\n",
        "    \n",
        "    return (instancia)"
      ],
      "execution_count": null,
      "outputs": []
    },
    {
      "cell_type": "code",
      "metadata": {
        "id": "uL0dj0Hm4n46",
        "outputId": "38b71138-7472-48a5-9c88-327f9a066d61",
        "colab": {
          "base_uri": "https://localhost:8080/",
          "height": 1000
        }
      },
      "source": [
        "for i in range (len(dfTweet)):\n",
        "    dfTweet.loc[i, 'Text'] = Normalizacao(dfTweet.loc[i, 'Text'])\n",
        "dfTweet.head(50)"
      ],
      "execution_count": null,
      "outputs": [
        {
          "output_type": "execute_result",
          "data": {
            "text/html": [
              "<div>\n",
              "<style scoped>\n",
              "    .dataframe tbody tr th:only-of-type {\n",
              "        vertical-align: middle;\n",
              "    }\n",
              "\n",
              "    .dataframe tbody tr th {\n",
              "        vertical-align: top;\n",
              "    }\n",
              "\n",
              "    .dataframe thead th {\n",
              "        text-align: right;\n",
              "    }\n",
              "</style>\n",
              "<table border=\"1\" class=\"dataframe\">\n",
              "  <thead>\n",
              "    <tr style=\"text-align: right;\">\n",
              "      <th></th>\n",
              "      <th>Text</th>\n",
              "      <th>Username</th>\n",
              "      <th>Classificacao</th>\n",
              "    </tr>\n",
              "  </thead>\n",
              "  <tbody>\n",
              "    <tr>\n",
              "      <th>0</th>\n",
              "      <td>���⛪  catedral de santo antônio  governador va...</td>\n",
              "      <td>Leonardo C Schneider</td>\n",
              "      <td>Neutro</td>\n",
              "    </tr>\n",
              "    <tr>\n",
              "      <th>1</th>\n",
              "      <td>�  governador valadares minas gerais</td>\n",
              "      <td>Wândell</td>\n",
              "      <td>Neutro</td>\n",
              "    </tr>\n",
              "    <tr>\n",
              "      <th>2</th>\n",
              "      <td>��  governador valadares minas gerais</td>\n",
              "      <td>Wândell</td>\n",
              "      <td>Neutro</td>\n",
              "    </tr>\n",
              "    <tr>\n",
              "      <th>3</th>\n",
              "      <td>���</td>\n",
              "      <td>Ana estudando</td>\n",
              "      <td>Neutro</td>\n",
              "    </tr>\n",
              "    <tr>\n",
              "      <th>4</th>\n",
              "      <td>��� psol vai questionar aumento de vereadores ...</td>\n",
              "      <td>Emily</td>\n",
              "      <td>Negativo</td>\n",
              "    </tr>\n",
              "    <tr>\n",
              "      <th>5</th>\n",
              "      <td>bom é bandido morto\\ndeputado cabo júlio é con...</td>\n",
              "      <td>Maristela Guimarães</td>\n",
              "      <td>Neutro</td>\n",
              "    </tr>\n",
              "    <tr>\n",
              "      <th>6</th>\n",
              "      <td>e  dos mineiros dizem não torcer para time nen...</td>\n",
              "      <td>Adriano</td>\n",
              "      <td>Neutro</td>\n",
              "    </tr>\n",
              "    <tr>\n",
              "      <th>7</th>\n",
              "      <td>a gigantesca barba do mal em destaque no cader...</td>\n",
              "      <td>Editora Nemo</td>\n",
              "      <td>Neutro</td>\n",
              "    </tr>\n",
              "    <tr>\n",
              "      <th>8</th>\n",
              "      <td>bb e governo de minas travam disputa sobre dep...</td>\n",
              "      <td>Minas Previ</td>\n",
              "      <td>Negativo</td>\n",
              "    </tr>\n",
              "    <tr>\n",
              "      <th>9</th>\n",
              "      <td>com vocês bh fica pequena belo horizonte pron ...</td>\n",
              "      <td>Marina.</td>\n",
              "      <td>Neutro</td>\n",
              "    </tr>\n",
              "    <tr>\n",
              "      <th>10</th>\n",
              "      <td>daí a gente visita governador valadares\\nque l...</td>\n",
              "      <td>gambim</td>\n",
              "      <td>Neutro</td>\n",
              "    </tr>\n",
              "    <tr>\n",
              "      <th>11</th>\n",
              "      <td>é bonita e é bonita \\nlatergram ibituruna home...</td>\n",
              "      <td>Nicolle S. F. Boroni</td>\n",
              "      <td>Neutro</td>\n",
              "    </tr>\n",
              "    <tr>\n",
              "      <th>12</th>\n",
              "      <td>erro desconhecido é mato aliás é da secretaria...</td>\n",
              "      <td>Roberta de Oliveira</td>\n",
              "      <td>Negativo</td>\n",
              "    </tr>\n",
              "    <tr>\n",
              "      <th>13</th>\n",
              "      <td>la la land cantando estações arrasa no globo d...</td>\n",
              "      <td>Grimoar</td>\n",
              "      <td>Neutro</td>\n",
              "    </tr>\n",
              "    <tr>\n",
              "      <th>14</th>\n",
              "      <td>la la land cantando estações arrasa no globo d...</td>\n",
              "      <td>Lenilda Miranda</td>\n",
              "      <td>Neutro</td>\n",
              "    </tr>\n",
              "    <tr>\n",
              "      <th>15</th>\n",
              "      <td>los abusos aun en el estado más sólido son min...</td>\n",
              "      <td>MiguelAngel Melendez</td>\n",
              "      <td>Neutro</td>\n",
              "    </tr>\n",
              "    <tr>\n",
              "      <th>16</th>\n",
              "      <td>mesmo sem muito dinheiro no caixa o governo de...</td>\n",
              "      <td>Gê de Alcaniz</td>\n",
              "      <td>Negativo</td>\n",
              "    </tr>\n",
              "    <tr>\n",
              "      <th>17</th>\n",
              "      <td>modelo de segurança será o nosso legado diz cl...</td>\n",
              "      <td>Evilazio Gonzaga</td>\n",
              "      <td>Neutro</td>\n",
              "    </tr>\n",
              "    <tr>\n",
              "      <th>18</th>\n",
              "      <td>modelo de segurança será o nosso legado diz cl...</td>\n",
              "      <td>Ricardo Carlini</td>\n",
              "      <td>Neutro</td>\n",
              "    </tr>\n",
              "    <tr>\n",
              "      <th>19</th>\n",
              "      <td>modelo de segurança será o nosso legado diz cl...</td>\n",
              "      <td>Bruno</td>\n",
              "      <td>Neutro</td>\n",
              "    </tr>\n",
              "    <tr>\n",
              "      <th>20</th>\n",
              "      <td>o governo de minas gerais não comentou o assunto</td>\n",
              "      <td>Fora Renan</td>\n",
              "      <td>Neutro</td>\n",
              "    </tr>\n",
              "    <tr>\n",
              "      <th>21</th>\n",
              "      <td>o governo federal publicou no dia  de dezembro...</td>\n",
              "      <td>Onde encontro? TO</td>\n",
              "      <td>Neutro</td>\n",
              "    </tr>\n",
              "    <tr>\n",
              "      <th>22</th>\n",
              "      <td>polícia federal acaba de divulgar que encontro...</td>\n",
              "      <td>Xandão TIMbeta</td>\n",
              "      <td>Neutro</td>\n",
              "    </tr>\n",
              "    <tr>\n",
              "      <th>23</th>\n",
              "      <td>praia da estação lota neste sábado de verão em...</td>\n",
              "      <td>Marcelo Ernesto</td>\n",
              "      <td>Neutro</td>\n",
              "    </tr>\n",
              "    <tr>\n",
              "      <th>24</th>\n",
              "      <td>representando mais uma ferramenta de monitoram...</td>\n",
              "      <td>Andréa Brandão</td>\n",
              "      <td>Neutro</td>\n",
              "    </tr>\n",
              "    <tr>\n",
              "      <th>25</th>\n",
              "      <td>uso de aeronave pertencente ao  estado de mg e...</td>\n",
              "      <td>Vitor.R.</td>\n",
              "      <td>Negativo</td>\n",
              "    </tr>\n",
              "    <tr>\n",
              "      <th>26</th>\n",
              "      <td>vou postar umas curiosidades sobre o corpo hum...</td>\n",
              "      <td>halsey</td>\n",
              "      <td>Neutro</td>\n",
              "    </tr>\n",
              "    <tr>\n",
              "      <th>27</th>\n",
              "      <td>acordaminas\\n\\no governador fernando pimentel ...</td>\n",
              "      <td>Juarez</td>\n",
              "      <td>Neutro</td>\n",
              "    </tr>\n",
              "    <tr>\n",
              "      <th>28</th>\n",
              "      <td>acordaminas\\n\\no povo mineiro tem que da um pé...</td>\n",
              "      <td>Juarez</td>\n",
              "      <td>Neutro</td>\n",
              "    </tr>\n",
              "    <tr>\n",
              "      <th>29</th>\n",
              "      <td>alerta  nome da ceee é utilizado em golpe no e...</td>\n",
              "      <td>Diário Popular</td>\n",
              "      <td>Negativo</td>\n",
              "    </tr>\n",
              "    <tr>\n",
              "      <th>30</th>\n",
              "      <td>beta betalab mg afiliada da globo apresentador...</td>\n",
              "      <td>Guilherme # Beta</td>\n",
              "      <td>Neutro</td>\n",
              "    </tr>\n",
              "    <tr>\n",
              "      <th>31</th>\n",
              "      <td>beta betalab mg caos nos presídios am pede apo...</td>\n",
              "      <td>Guilherme # Beta</td>\n",
              "      <td>Neutro</td>\n",
              "    </tr>\n",
              "    <tr>\n",
              "      <th>32</th>\n",
              "      <td>beta betalab mg caos nos presídios temer e cár...</td>\n",
              "      <td>Guilherme # Beta</td>\n",
              "      <td>Neutro</td>\n",
              "    </tr>\n",
              "    <tr>\n",
              "      <th>33</th>\n",
              "      <td>beta betalab mg crise carcerária governo de ro...</td>\n",
              "      <td>Guilherme # Beta</td>\n",
              "      <td>Neutro</td>\n",
              "    </tr>\n",
              "    <tr>\n",
              "      <th>34</th>\n",
              "      <td>beta betalab mg crise carcerária secretário de...</td>\n",
              "      <td>Guilherme # Beta</td>\n",
              "      <td>Neutro</td>\n",
              "    </tr>\n",
              "    <tr>\n",
              "      <th>35</th>\n",
              "      <td>beta betalab mg crise política no df se agrava...</td>\n",
              "      <td>Guilherme # Beta</td>\n",
              "      <td>Neutro</td>\n",
              "    </tr>\n",
              "    <tr>\n",
              "      <th>36</th>\n",
              "      <td>beta betalab mg escalada de violência nos pres...</td>\n",
              "      <td>Guilherme # Beta</td>\n",
              "      <td>Neutro</td>\n",
              "    </tr>\n",
              "    <tr>\n",
              "      <th>37</th>\n",
              "      <td>beta betalab mg escalada de violência crime or...</td>\n",
              "      <td>Guilherme # Beta</td>\n",
              "      <td>Neutro</td>\n",
              "    </tr>\n",
              "    <tr>\n",
              "      <th>38</th>\n",
              "      <td>beta betalab mg estado afirma não ter sido not...</td>\n",
              "      <td>Guilherme # Beta</td>\n",
              "      <td>Neutro</td>\n",
              "    </tr>\n",
              "    <tr>\n",
              "      <th>39</th>\n",
              "      <td>beta betalab mg estado de espírito do paulista...</td>\n",
              "      <td>Guilherme # Beta</td>\n",
              "      <td>Neutro</td>\n",
              "    </tr>\n",
              "    <tr>\n",
              "      <th>40</th>\n",
              "      <td>beta betalab mg estados falidos parte do pmdb ...</td>\n",
              "      <td>Guilherme # Beta</td>\n",
              "      <td>Neutro</td>\n",
              "    </tr>\n",
              "    <tr>\n",
              "      <th>41</th>\n",
              "      <td>beta betalab mg exministro e outros servidores...</td>\n",
              "      <td>Guilherme # Beta</td>\n",
              "      <td>Neutro</td>\n",
              "    </tr>\n",
              "    <tr>\n",
              "      <th>42</th>\n",
              "      <td>beta betalab mg expresidente da câmara justiça...</td>\n",
              "      <td>Guilherme # Beta</td>\n",
              "      <td>Neutro</td>\n",
              "    </tr>\n",
              "    <tr>\n",
              "      <th>43</th>\n",
              "      <td>beta betalab mg governo em calamidade financei...</td>\n",
              "      <td>Guilherme # Beta</td>\n",
              "      <td>Negativo</td>\n",
              "    </tr>\n",
              "    <tr>\n",
              "      <th>44</th>\n",
              "      <td>beta betalab mg mais sobre o massacre pf facçã...</td>\n",
              "      <td>Guilherme # Beta</td>\n",
              "      <td>Neutro</td>\n",
              "    </tr>\n",
              "    <tr>\n",
              "      <th>45</th>\n",
              "      <td>beta betalab mg marketing e veto a medidas de ...</td>\n",
              "      <td>Guilherme # Beta</td>\n",
              "      <td>Neutro</td>\n",
              "    </tr>\n",
              "    <tr>\n",
              "      <th>46</th>\n",
              "      <td>beta betalab mg massacre em presídio de manaus...</td>\n",
              "      <td>Guilherme # Beta</td>\n",
              "      <td>Neutro</td>\n",
              "    </tr>\n",
              "    <tr>\n",
              "      <th>47</th>\n",
              "      <td>beta betalab mg mudanças propostas pelo govern...</td>\n",
              "      <td>Guilherme # Beta</td>\n",
              "      <td>Neutro</td>\n",
              "    </tr>\n",
              "    <tr>\n",
              "      <th>48</th>\n",
              "      <td>beta betalab mg muitas páginas de investigação...</td>\n",
              "      <td>Guilherme # Beta</td>\n",
              "      <td>Neutro</td>\n",
              "    </tr>\n",
              "    <tr>\n",
              "      <th>49</th>\n",
              "      <td>beta betalab mg nos últimos dois anos governo ...</td>\n",
              "      <td>Guilherme # Beta</td>\n",
              "      <td>Neutro</td>\n",
              "    </tr>\n",
              "  </tbody>\n",
              "</table>\n",
              "</div>"
            ],
            "text/plain": [
              "                                                 Text  ... Classificacao\n",
              "0   ���⛪  catedral de santo antônio  governador va...  ...        Neutro\n",
              "1                �  governador valadares minas gerais  ...        Neutro\n",
              "2               ��  governador valadares minas gerais  ...        Neutro\n",
              "3                                                 ���  ...        Neutro\n",
              "4   ��� psol vai questionar aumento de vereadores ...  ...      Negativo\n",
              "5   bom é bandido morto\\ndeputado cabo júlio é con...  ...        Neutro\n",
              "6   e  dos mineiros dizem não torcer para time nen...  ...        Neutro\n",
              "7   a gigantesca barba do mal em destaque no cader...  ...        Neutro\n",
              "8   bb e governo de minas travam disputa sobre dep...  ...      Negativo\n",
              "9   com vocês bh fica pequena belo horizonte pron ...  ...        Neutro\n",
              "10  daí a gente visita governador valadares\\nque l...  ...        Neutro\n",
              "11  é bonita e é bonita \\nlatergram ibituruna home...  ...        Neutro\n",
              "12  erro desconhecido é mato aliás é da secretaria...  ...      Negativo\n",
              "13  la la land cantando estações arrasa no globo d...  ...        Neutro\n",
              "14  la la land cantando estações arrasa no globo d...  ...        Neutro\n",
              "15  los abusos aun en el estado más sólido son min...  ...        Neutro\n",
              "16  mesmo sem muito dinheiro no caixa o governo de...  ...      Negativo\n",
              "17  modelo de segurança será o nosso legado diz cl...  ...        Neutro\n",
              "18  modelo de segurança será o nosso legado diz cl...  ...        Neutro\n",
              "19  modelo de segurança será o nosso legado diz cl...  ...        Neutro\n",
              "20   o governo de minas gerais não comentou o assunto  ...        Neutro\n",
              "21  o governo federal publicou no dia  de dezembro...  ...        Neutro\n",
              "22  polícia federal acaba de divulgar que encontro...  ...        Neutro\n",
              "23  praia da estação lota neste sábado de verão em...  ...        Neutro\n",
              "24  representando mais uma ferramenta de monitoram...  ...        Neutro\n",
              "25  uso de aeronave pertencente ao  estado de mg e...  ...      Negativo\n",
              "26  vou postar umas curiosidades sobre o corpo hum...  ...        Neutro\n",
              "27  acordaminas\\n\\no governador fernando pimentel ...  ...        Neutro\n",
              "28  acordaminas\\n\\no povo mineiro tem que da um pé...  ...        Neutro\n",
              "29  alerta  nome da ceee é utilizado em golpe no e...  ...      Negativo\n",
              "30  beta betalab mg afiliada da globo apresentador...  ...        Neutro\n",
              "31  beta betalab mg caos nos presídios am pede apo...  ...        Neutro\n",
              "32  beta betalab mg caos nos presídios temer e cár...  ...        Neutro\n",
              "33  beta betalab mg crise carcerária governo de ro...  ...        Neutro\n",
              "34  beta betalab mg crise carcerária secretário de...  ...        Neutro\n",
              "35  beta betalab mg crise política no df se agrava...  ...        Neutro\n",
              "36  beta betalab mg escalada de violência nos pres...  ...        Neutro\n",
              "37  beta betalab mg escalada de violência crime or...  ...        Neutro\n",
              "38  beta betalab mg estado afirma não ter sido not...  ...        Neutro\n",
              "39  beta betalab mg estado de espírito do paulista...  ...        Neutro\n",
              "40  beta betalab mg estados falidos parte do pmdb ...  ...        Neutro\n",
              "41  beta betalab mg exministro e outros servidores...  ...        Neutro\n",
              "42  beta betalab mg expresidente da câmara justiça...  ...        Neutro\n",
              "43  beta betalab mg governo em calamidade financei...  ...      Negativo\n",
              "44  beta betalab mg mais sobre o massacre pf facçã...  ...        Neutro\n",
              "45  beta betalab mg marketing e veto a medidas de ...  ...        Neutro\n",
              "46  beta betalab mg massacre em presídio de manaus...  ...        Neutro\n",
              "47  beta betalab mg mudanças propostas pelo govern...  ...        Neutro\n",
              "48  beta betalab mg muitas páginas de investigação...  ...        Neutro\n",
              "49  beta betalab mg nos últimos dois anos governo ...  ...        Neutro\n",
              "\n",
              "[50 rows x 3 columns]"
            ]
          },
          "metadata": {
            "tags": []
          },
          "execution_count": 18
        }
      ]
    },
    {
      "cell_type": "markdown",
      "metadata": {
        "id": "KTevmcJl3snJ"
      },
      "source": [
        "### Remoção de StopWords"
      ]
    },
    {
      "cell_type": "code",
      "metadata": {
        "id": "qVuwgd0nzTqm",
        "outputId": "d10822d5-dd68-4ef3-b40b-d91dc576548d",
        "colab": {
          "base_uri": "https://localhost:8080/"
        }
      },
      "source": [
        "import nltk\n",
        "nltk.download('stopwords')\n",
        "from nltk.corpus import stopwords\n",
        "stopwordsnltk = nltk.corpus.stopwords.words('portuguese')\n",
        "# stopwordsnltk.append('vou')\n",
        "# stopwordsnltk.append('tão')"
      ],
      "execution_count": null,
      "outputs": [
        {
          "output_type": "stream",
          "text": [
            "[nltk_data] Downloading package stopwords to /root/nltk_data...\n",
            "[nltk_data]   Package stopwords is already up-to-date!\n"
          ],
          "name": "stdout"
        }
      ]
    },
    {
      "cell_type": "code",
      "metadata": {
        "id": "2hn3tSCEzTzO",
        "outputId": "dfd2c06a-e457-4eb7-a9ed-eb264cc115b2",
        "colab": {
          "base_uri": "https://localhost:8080/"
        }
      },
      "source": [
        "print(stopwordsnltk)"
      ],
      "execution_count": null,
      "outputs": [
        {
          "output_type": "stream",
          "text": [
            "['de', 'a', 'o', 'que', 'e', 'é', 'do', 'da', 'em', 'um', 'para', 'com', 'não', 'uma', 'os', 'no', 'se', 'na', 'por', 'mais', 'as', 'dos', 'como', 'mas', 'ao', 'ele', 'das', 'à', 'seu', 'sua', 'ou', 'quando', 'muito', 'nos', 'já', 'eu', 'também', 'só', 'pelo', 'pela', 'até', 'isso', 'ela', 'entre', 'depois', 'sem', 'mesmo', 'aos', 'seus', 'quem', 'nas', 'me', 'esse', 'eles', 'você', 'essa', 'num', 'nem', 'suas', 'meu', 'às', 'minha', 'numa', 'pelos', 'elas', 'qual', 'nós', 'lhe', 'deles', 'essas', 'esses', 'pelas', 'este', 'dele', 'tu', 'te', 'vocês', 'vos', 'lhes', 'meus', 'minhas', 'teu', 'tua', 'teus', 'tuas', 'nosso', 'nossa', 'nossos', 'nossas', 'dela', 'delas', 'esta', 'estes', 'estas', 'aquele', 'aquela', 'aqueles', 'aquelas', 'isto', 'aquilo', 'estou', 'está', 'estamos', 'estão', 'estive', 'esteve', 'estivemos', 'estiveram', 'estava', 'estávamos', 'estavam', 'estivera', 'estivéramos', 'esteja', 'estejamos', 'estejam', 'estivesse', 'estivéssemos', 'estivessem', 'estiver', 'estivermos', 'estiverem', 'hei', 'há', 'havemos', 'hão', 'houve', 'houvemos', 'houveram', 'houvera', 'houvéramos', 'haja', 'hajamos', 'hajam', 'houvesse', 'houvéssemos', 'houvessem', 'houver', 'houvermos', 'houverem', 'houverei', 'houverá', 'houveremos', 'houverão', 'houveria', 'houveríamos', 'houveriam', 'sou', 'somos', 'são', 'era', 'éramos', 'eram', 'fui', 'foi', 'fomos', 'foram', 'fora', 'fôramos', 'seja', 'sejamos', 'sejam', 'fosse', 'fôssemos', 'fossem', 'for', 'formos', 'forem', 'serei', 'será', 'seremos', 'serão', 'seria', 'seríamos', 'seriam', 'tenho', 'tem', 'temos', 'tém', 'tinha', 'tínhamos', 'tinham', 'tive', 'teve', 'tivemos', 'tiveram', 'tivera', 'tivéramos', 'tenha', 'tenhamos', 'tenham', 'tivesse', 'tivéssemos', 'tivessem', 'tiver', 'tivermos', 'tiverem', 'terei', 'terá', 'teremos', 'terão', 'teria', 'teríamos', 'teriam']\n"
          ],
          "name": "stdout"
        }
      ]
    },
    {
      "cell_type": "code",
      "metadata": {
        "id": "EH1_X9hWzT8-"
      },
      "source": [
        "def removestopwords(instancia):   \n",
        "    palavras = [i for i in instancia.split() if not i in stopwordsnltk] # PARA IDIOMA EM PORTUGUÊS      \n",
        "#     print('palavras: {}'.format(palavras))\n",
        "    return (\" \".join(palavras))"
      ],
      "execution_count": null,
      "outputs": []
    },
    {
      "cell_type": "code",
      "metadata": {
        "id": "oFwoRIgr3Re-",
        "outputId": "7535512f-c07d-4091-f95a-b919c6fddfad",
        "colab": {
          "base_uri": "https://localhost:8080/",
          "height": 419
        }
      },
      "source": [
        "for i in range (len(dfTweet)):\n",
        "    dfTweet.loc[i, 'Text'] = removestopwords(dfTweet.loc[i, 'Text'])\n",
        "dfTweet"
      ],
      "execution_count": null,
      "outputs": [
        {
          "output_type": "execute_result",
          "data": {
            "text/html": [
              "<div>\n",
              "<style scoped>\n",
              "    .dataframe tbody tr th:only-of-type {\n",
              "        vertical-align: middle;\n",
              "    }\n",
              "\n",
              "    .dataframe tbody tr th {\n",
              "        vertical-align: top;\n",
              "    }\n",
              "\n",
              "    .dataframe thead th {\n",
              "        text-align: right;\n",
              "    }\n",
              "</style>\n",
              "<table border=\"1\" class=\"dataframe\">\n",
              "  <thead>\n",
              "    <tr style=\"text-align: right;\">\n",
              "      <th></th>\n",
              "      <th>Text</th>\n",
              "      <th>Username</th>\n",
              "      <th>Classificacao</th>\n",
              "    </tr>\n",
              "  </thead>\n",
              "  <tbody>\n",
              "    <tr>\n",
              "      <th>0</th>\n",
              "      <td>���⛪ catedral santo antônio governador valadar...</td>\n",
              "      <td>Leonardo C Schneider</td>\n",
              "      <td>Neutro</td>\n",
              "    </tr>\n",
              "    <tr>\n",
              "      <th>1</th>\n",
              "      <td>� governador valadares minas gerais</td>\n",
              "      <td>Wândell</td>\n",
              "      <td>Neutro</td>\n",
              "    </tr>\n",
              "    <tr>\n",
              "      <th>2</th>\n",
              "      <td>�� governador valadares minas gerais</td>\n",
              "      <td>Wândell</td>\n",
              "      <td>Neutro</td>\n",
              "    </tr>\n",
              "    <tr>\n",
              "      <th>3</th>\n",
              "      <td>���</td>\n",
              "      <td>Ana estudando</td>\n",
              "      <td>Neutro</td>\n",
              "    </tr>\n",
              "    <tr>\n",
              "      <th>4</th>\n",
              "      <td>��� psol vai questionar aumento vereadores pre...</td>\n",
              "      <td>Emily</td>\n",
              "      <td>Negativo</td>\n",
              "    </tr>\n",
              "    <tr>\n",
              "      <th>...</th>\n",
              "      <td>...</td>\n",
              "      <td>...</td>\n",
              "      <td>...</td>\n",
              "    </tr>\n",
              "    <tr>\n",
              "      <th>5760</th>\n",
              "      <td>trio preso suspeito roubo tráfico abuso sexual...</td>\n",
              "      <td>Ana Lúcia</td>\n",
              "      <td>Positivo</td>\n",
              "    </tr>\n",
              "    <tr>\n",
              "      <th>5761</th>\n",
              "      <td>trio preso suspeito roubo tráfico abuso sexual...</td>\n",
              "      <td>Marcelo Rezende</td>\n",
              "      <td>Positivo</td>\n",
              "    </tr>\n",
              "    <tr>\n",
              "      <th>5762</th>\n",
              "      <td>trio preso suspeito roubo tráfico abuso sexual...</td>\n",
              "      <td>Leonardo Nascimento</td>\n",
              "      <td>Positivo</td>\n",
              "    </tr>\n",
              "    <tr>\n",
              "      <th>5763</th>\n",
              "      <td>trio preso suspeito roubo tráfico abuso sexual...</td>\n",
              "      <td>Lucas Medeiros �©™</td>\n",
              "      <td>Positivo</td>\n",
              "    </tr>\n",
              "    <tr>\n",
              "      <th>5764</th>\n",
              "      <td>trio suspeito roubo cargas preso santa luzia m...</td>\n",
              "      <td>RecordTV Minas</td>\n",
              "      <td>Positivo</td>\n",
              "    </tr>\n",
              "  </tbody>\n",
              "</table>\n",
              "<p>5765 rows × 3 columns</p>\n",
              "</div>"
            ],
            "text/plain": [
              "                                                   Text  ... Classificacao\n",
              "0     ���⛪ catedral santo antônio governador valadar...  ...        Neutro\n",
              "1                   � governador valadares minas gerais  ...        Neutro\n",
              "2                  �� governador valadares minas gerais  ...        Neutro\n",
              "3                                                   ���  ...        Neutro\n",
              "4     ��� psol vai questionar aumento vereadores pre...  ...      Negativo\n",
              "...                                                 ...  ...           ...\n",
              "5760  trio preso suspeito roubo tráfico abuso sexual...  ...      Positivo\n",
              "5761  trio preso suspeito roubo tráfico abuso sexual...  ...      Positivo\n",
              "5762  trio preso suspeito roubo tráfico abuso sexual...  ...      Positivo\n",
              "5763  trio preso suspeito roubo tráfico abuso sexual...  ...      Positivo\n",
              "5764  trio suspeito roubo cargas preso santa luzia m...  ...      Positivo\n",
              "\n",
              "[5765 rows x 3 columns]"
            ]
          },
          "metadata": {
            "tags": []
          },
          "execution_count": 22
        }
      ]
    },
    {
      "cell_type": "markdown",
      "metadata": {
        "id": "s3-r66226_5u"
      },
      "source": [
        "### Stermmer"
      ]
    },
    {
      "cell_type": "code",
      "metadata": {
        "id": "jh1NYMgp7SZw",
        "outputId": "a8ce60b0-0f9b-466c-b27b-a8846052fdeb",
        "colab": {
          "base_uri": "https://localhost:8080/"
        }
      },
      "source": [
        "import nltk\n",
        "nltk.download('rslp')\n",
        "from nltk.stem import RSLPStemmer\n",
        "# nltk.download('wordnet')\n",
        "# from nltk.stem import WordNetLemmatizer"
      ],
      "execution_count": null,
      "outputs": [
        {
          "output_type": "stream",
          "text": [
            "[nltk_data] Downloading package rslp to /root/nltk_data...\n",
            "[nltk_data]   Unzipping stemmers/rslp.zip.\n"
          ],
          "name": "stdout"
        }
      ]
    },
    {
      "cell_type": "code",
      "metadata": {
        "id": "mioJdvOu4n-5"
      },
      "source": [
        "def Stemming(instancia):\n",
        "    stemmer = nltk.stem.RSLPStemmer()\n",
        "    palavras = []\n",
        "    for w in instancia.split():\n",
        "        palavras.append(stemmer.stem(w))\n",
        "    return (\" \".join(palavras))"
      ],
      "execution_count": null,
      "outputs": []
    },
    {
      "cell_type": "code",
      "metadata": {
        "id": "-i-gfOpR4n8U",
        "outputId": "1e64b037-d232-4dd8-dce3-c0d1b887bcc6",
        "colab": {
          "base_uri": "https://localhost:8080/",
          "height": 419
        }
      },
      "source": [
        "for i in range (len(dfTweet)):\n",
        "    dfTweet.loc[i, 'Text'] = Stemming(dfTweet.loc[i, 'Text'])\n",
        "dfTweet"
      ],
      "execution_count": null,
      "outputs": [
        {
          "output_type": "execute_result",
          "data": {
            "text/html": [
              "<div>\n",
              "<style scoped>\n",
              "    .dataframe tbody tr th:only-of-type {\n",
              "        vertical-align: middle;\n",
              "    }\n",
              "\n",
              "    .dataframe tbody tr th {\n",
              "        vertical-align: top;\n",
              "    }\n",
              "\n",
              "    .dataframe thead th {\n",
              "        text-align: right;\n",
              "    }\n",
              "</style>\n",
              "<table border=\"1\" class=\"dataframe\">\n",
              "  <thead>\n",
              "    <tr style=\"text-align: right;\">\n",
              "      <th></th>\n",
              "      <th>Text</th>\n",
              "      <th>Username</th>\n",
              "      <th>Classificacao</th>\n",
              "    </tr>\n",
              "  </thead>\n",
              "  <tbody>\n",
              "    <tr>\n",
              "      <th>0</th>\n",
              "      <td>���⛪ catedr sant antôni govern valadaresmg</td>\n",
              "      <td>Leonardo C Schneider</td>\n",
              "      <td>Neutro</td>\n",
              "    </tr>\n",
              "    <tr>\n",
              "      <th>1</th>\n",
              "      <td>� govern valad min geral</td>\n",
              "      <td>Wândell</td>\n",
              "      <td>Neutro</td>\n",
              "    </tr>\n",
              "    <tr>\n",
              "      <th>2</th>\n",
              "      <td>�� govern valad min geral</td>\n",
              "      <td>Wândell</td>\n",
              "      <td>Neutro</td>\n",
              "    </tr>\n",
              "    <tr>\n",
              "      <th>3</th>\n",
              "      <td>���</td>\n",
              "      <td>Ana estudando</td>\n",
              "      <td>Neutro</td>\n",
              "    </tr>\n",
              "    <tr>\n",
              "      <th>4</th>\n",
              "      <td>��� psol vai quest aument vere prefeit bh just...</td>\n",
              "      <td>Emily</td>\n",
              "      <td>Negativo</td>\n",
              "    </tr>\n",
              "    <tr>\n",
              "      <th>...</th>\n",
              "      <td>...</td>\n",
              "      <td>...</td>\n",
              "      <td>...</td>\n",
              "    </tr>\n",
              "    <tr>\n",
              "      <th>5760</th>\n",
              "      <td>tri pres suspeit roub tráf abus sex uberlând</td>\n",
              "      <td>Ana Lúcia</td>\n",
              "      <td>Positivo</td>\n",
              "    </tr>\n",
              "    <tr>\n",
              "      <th>5761</th>\n",
              "      <td>tri pres suspeit roub tráf abus sex uberlând</td>\n",
              "      <td>Marcelo Rezende</td>\n",
              "      <td>Positivo</td>\n",
              "    </tr>\n",
              "    <tr>\n",
              "      <th>5762</th>\n",
              "      <td>tri pres suspeit roub tráf abus sex uberlând</td>\n",
              "      <td>Leonardo Nascimento</td>\n",
              "      <td>Positivo</td>\n",
              "    </tr>\n",
              "    <tr>\n",
              "      <th>5763</th>\n",
              "      <td>tri pres suspeit roub tráf abus sex uberlând a...</td>\n",
              "      <td>Lucas Medeiros �©™</td>\n",
              "      <td>Positivo</td>\n",
              "    </tr>\n",
              "    <tr>\n",
              "      <th>5764</th>\n",
              "      <td>tri suspeit roub carg pres sant luz mg rmg rec...</td>\n",
              "      <td>RecordTV Minas</td>\n",
              "      <td>Positivo</td>\n",
              "    </tr>\n",
              "  </tbody>\n",
              "</table>\n",
              "<p>5765 rows × 3 columns</p>\n",
              "</div>"
            ],
            "text/plain": [
              "                                                   Text  ... Classificacao\n",
              "0            ���⛪ catedr sant antôni govern valadaresmg  ...        Neutro\n",
              "1                              � govern valad min geral  ...        Neutro\n",
              "2                             �� govern valad min geral  ...        Neutro\n",
              "3                                                   ���  ...        Neutro\n",
              "4     ��� psol vai quest aument vere prefeit bh just...  ...      Negativo\n",
              "...                                                 ...  ...           ...\n",
              "5760       tri pres suspeit roub tráf abus sex uberlând  ...      Positivo\n",
              "5761       tri pres suspeit roub tráf abus sex uberlând  ...      Positivo\n",
              "5762       tri pres suspeit roub tráf abus sex uberlând  ...      Positivo\n",
              "5763  tri pres suspeit roub tráf abus sex uberlând a...  ...      Positivo\n",
              "5764  tri suspeit roub carg pres sant luz mg rmg rec...  ...      Positivo\n",
              "\n",
              "[5765 rows x 3 columns]"
            ]
          },
          "metadata": {
            "tags": []
          },
          "execution_count": 25
        }
      ]
    },
    {
      "cell_type": "code",
      "metadata": {
        "id": "lha80sKy4n24",
        "outputId": "8fd56534-7885-41a2-a45d-5da969fcbecb",
        "colab": {
          "base_uri": "https://localhost:8080/",
          "height": 385
        }
      },
      "source": [
        "%matplotlib inline    \n",
        "import matplotlib.pyplot as plt\n",
        "print(dfTweet.Classificacao.value_counts())\n",
        "dfTweet.Classificacao.value_counts().plot(kind='bar')"
      ],
      "execution_count": null,
      "outputs": [
        {
          "output_type": "stream",
          "text": [
            "Positivo    2840\n",
            "Neutro      1974\n",
            "Negativo     951\n",
            "Name: Classificacao, dtype: int64\n"
          ],
          "name": "stdout"
        },
        {
          "output_type": "execute_result",
          "data": {
            "text/plain": [
              "<matplotlib.axes._subplots.AxesSubplot at 0x7f3fe02a4208>"
            ]
          },
          "metadata": {
            "tags": []
          },
          "execution_count": 26
        },
        {
          "output_type": "display_data",
          "data": {
            "image/png": "[encoded data removed]",
            "text/plain": [
              "<Figure size 432x288 with 1 Axes>"
            ]
          },
          "metadata": {
            "tags": [],
            "needs_background": "light"
          }
        }
      ]
    },
    {
      "cell_type": "code",
      "metadata": {
        "id": "gQV3IC2dzT21"
      },
      "source": [
        "# plt.savefig('/content/drive/My Drive/Colab Notebooks/ARQUIVOS/Desbalanceado-A'+str(cont)+'.png') #esta linha cria um arquivo png com o gráfico"
      ],
      "execution_count": null,
      "outputs": []
    },
    {
      "cell_type": "markdown",
      "metadata": {
        "id": "0GKrha6xDHir"
      },
      "source": [
        "# TRANSFORMAÇÃO"
      ]
    },
    {
      "cell_type": "code",
      "metadata": {
        "id": "JVCnZSUl83gZ"
      },
      "source": [
        "# from sklearn.feature_extraction.text import TfidfVectorizer\n",
        "from sklearn.feature_extraction.text import CountVectorizer"
      ],
      "execution_count": null,
      "outputs": []
    },
    {
      "cell_type": "markdown",
      "metadata": {
        "id": "MDrSL18bDOe1"
      },
      "source": [
        "## Bag of Wors (Saco de palavras)"
      ]
    },
    {
      "cell_type": "code",
      "metadata": {
        "id": "hmRIqRaK8sUH",
        "outputId": "f908ef3c-9c30-4d40-edf0-a05a93be4fa0",
        "colab": {
          "base_uri": "https://localhost:8080/"
        }
      },
      "source": [
        "vectorizer = CountVectorizer(analyzer=\"word\",\n",
        "                            #  ngram_range = (1,1)\n",
        "                            )\n",
        "Vetor_comentarios = vectorizer.fit_transform(dfTweet[\"Text\"])\n",
        "words = vectorizer.get_feature_names()\n",
        "Vetor_comentarios.toarray()"
      ],
      "execution_count": null,
      "outputs": [
        {
          "output_type": "execute_result",
          "data": {
            "text/plain": [
              "array([[0, 0, 0, ..., 0, 0, 0],\n",
              "       [0, 0, 0, ..., 0, 0, 0],\n",
              "       [0, 0, 0, ..., 0, 0, 0],\n",
              "       ...,\n",
              "       [0, 0, 0, ..., 0, 0, 0],\n",
              "       [0, 0, 0, ..., 0, 0, 0],\n",
              "       [0, 0, 0, ..., 0, 0, 0]])"
            ]
          },
          "metadata": {
            "tags": []
          },
          "execution_count": 29
        }
      ]
    },
    {
      "cell_type": "code",
      "metadata": {
        "id": "yabE3mkp9u-U",
        "outputId": "91f1bdd6-cf21-46a5-97cd-5dbdc2fe45b6",
        "colab": {
          "base_uri": "https://localhost:8080/"
        }
      },
      "source": [
        "k = 1\n",
        "print(\"Vetor PALAVRAS para o comentário: \",k)\n",
        "print(dfTweet[\"Text\"][k])\n",
        "print(Vetor_comentarios[k])"
      ],
      "execution_count": null,
      "outputs": [
        {
          "output_type": "stream",
          "text": [
            "Vetor PALAVRAS para o comentário:  1\n",
            "� govern valad min geral\n",
            "  (0, 2243)\t1\n",
            "  (0, 5045)\t1\n",
            "  (0, 3183)\t1\n",
            "  (0, 2192)\t1\n"
          ],
          "name": "stdout"
        }
      ]
    },
    {
      "cell_type": "markdown",
      "metadata": {
        "id": "GNbpRBF3DYiC"
      },
      "source": [
        "# CLASSIFICAÇÃO"
      ]
    },
    {
      "cell_type": "code",
      "metadata": {
        "id": "Na-A6YDm-ooe"
      },
      "source": [
        "#Classificadores\n",
        "from sklearn.naive_bayes import MultinomialNB\n",
        "# from sklearn.naive_bayes import BernoulliNB\n",
        "# from sklearn.naive_bayes import GaussianNB\n",
        "# from sklearn.svm import LinearSVC\n",
        "# from sklearn.tree import DecisionTreeClassifier"
      ],
      "execution_count": null,
      "outputs": []
    },
    {
      "cell_type": "code",
      "metadata": {
        "id": "DsYZW_D7Dz0G",
        "outputId": "beb2a30c-282c-47bc-fd73-147709ecf41e",
        "colab": {
          "base_uri": "https://localhost:8080/"
        }
      },
      "source": [
        "modeloNB = MultinomialNB()\n",
        "modeloNB.fit(Vetor_comentarios,dfTweet[\"Classificacao\"] )"
      ],
      "execution_count": null,
      "outputs": [
        {
          "output_type": "execute_result",
          "data": {
            "text/plain": [
              "MultinomialNB(alpha=1.0, class_prior=None, fit_prior=True)"
            ]
          },
          "metadata": {
            "tags": []
          },
          "execution_count": 33
        }
      ]
    },
    {
      "cell_type": "markdown",
      "metadata": {
        "id": "uAoV4rPiE2AA"
      },
      "source": [
        "### Testando o Modelo"
      ]
    },
    {
      "cell_type": "code",
      "metadata": {
        "id": "r70dMOc-c0-M"
      },
      "source": [
        "baseteste = ['Esse governo está no início, vamos ver o que vai dar',\n",
        "             'Estou muito feliz com o governo de Minas esse ano',\n",
        "             'O estado de Minas Gerais decretou calamidade financeira!!!',\n",
        "             'A segurança desse país está deixando a desejar',\n",
        "             'O governador de Minas é do PT']"
      ],
      "execution_count": null,
      "outputs": []
    },
    {
      "cell_type": "code",
      "metadata": {
        "id": "7oeAp0fZIsEF",
        "outputId": "15856a56-1988-453a-e71b-3d4868d8766c",
        "colab": {
          "base_uri": "https://localhost:8080/"
        }
      },
      "source": [
        "print(baseteste)"
      ],
      "execution_count": null,
      "outputs": [
        {
          "output_type": "stream",
          "text": [
            "['Esse governo está no início, vamos ver o que vai dar', 'Estou muito feliz com o governo de Minas esse ano', 'O estado de Minas Gerais decretou calamidade financeira!!!', 'A segurança desse país está deixando a desejar', 'O governador de Minas é do PT']\n"
          ],
          "name": "stdout"
        }
      ]
    },
    {
      "cell_type": "code",
      "metadata": {
        "id": "RSiCjFcPGBsP",
        "outputId": "7acec6c1-47e1-4237-b3f8-3c149ddaa81c",
        "colab": {
          "base_uri": "https://localhost:8080/"
        }
      },
      "source": [
        "baseteste = [Normalizacao(i) for i in baseteste]\n",
        "baseteste = [removestopwords(i) for i in baseteste]\n",
        "baseteste = [Stemming(i) for i in baseteste]\n",
        "print(baseteste)"
      ],
      "execution_count": null,
      "outputs": [
        {
          "output_type": "stream",
          "text": [
            "['govern iníci vam ver vai dar', 'feliz govern min ano', 'est min geral decret calam financ', 'seguranç dess país deix desej', 'govern min pt']\n"
          ],
          "name": "stdout"
        }
      ]
    },
    {
      "cell_type": "code",
      "metadata": {
        "id": "rEQVeAiGGB1Z"
      },
      "source": [
        "freq_testes = vectorizer.transform(baseteste)"
      ],
      "execution_count": null,
      "outputs": []
    },
    {
      "cell_type": "code",
      "metadata": {
        "id": "s-Vf40_rHV70",
        "outputId": "022778cd-d176-42fb-c6e7-0a8918dd9550",
        "colab": {
          "base_uri": "https://localhost:8080/"
        }
      },
      "source": [
        "print(modeloNB.predict(freq_testes))"
      ],
      "execution_count": null,
      "outputs": [
        {
          "output_type": "stream",
          "text": [
            "['Neutro' 'Neutro' 'Negativo' 'Neutro' 'Negativo']\n"
          ],
          "name": "stdout"
        }
      ]
    },
    {
      "cell_type": "code",
      "metadata": {
        "id": "dmx6QjEVHpaf",
        "outputId": "246d2996-b317-4535-893e-39a78a258fc2",
        "colab": {
          "base_uri": "https://localhost:8080/"
        }
      },
      "source": [
        "print(modeloNB.classes_)\n",
        "print(modeloNB.predict_proba(freq_testes))"
      ],
      "execution_count": null,
      "outputs": [
        {
          "output_type": "stream",
          "text": [
            "['Negativo' 'Neutro' 'Positivo']\n",
            "[[2.07405006e-01 7.91400672e-01 1.19432165e-03]\n",
            " [2.23585118e-02 9.31888848e-01 4.57526400e-02]\n",
            " [9.98473617e-01 1.52622915e-03 1.54318329e-07]\n",
            " [1.62925292e-02 9.74988694e-01 8.71877655e-03]\n",
            " [7.03858691e-01 2.84904776e-01 1.12365326e-02]]\n"
          ],
          "name": "stdout"
        }
      ]
    },
    {
      "cell_type": "markdown",
      "metadata": {
        "id": "DuS0ASULDeSV"
      },
      "source": [
        "# VALIDAÇÃO"
      ]
    },
    {
      "cell_type": "markdown",
      "metadata": {
        "id": "rubMBLmvNUPu"
      },
      "source": [
        "## Validação com dados de teste e treinamento"
      ]
    },
    {
      "cell_type": "code",
      "metadata": {
        "id": "uatKkl-RMKuf"
      },
      "source": [
        "from sklearn.model_selection import ShuffleSplit\n",
        "from sklearn.model_selection import learning_curve\n",
        "import numpy as np\n",
        "\n",
        "def plot_learning_curve(estimator, X, y, cv):\n",
        "    # O gráfico é inicializado com as características principais\n",
        "    plt.figure(figsize=(10,6))\n",
        "    plt.title(\"Curva de Aprendizado (Modelo Classificador)\", fontsize = 18)\n",
        "    plt.xlabel('Pontos do treinamento',fontsize = 14)\n",
        "    plt.ylabel('Desempenho', fontsize = 14)\n",
        "    plt.grid(True)\n",
        "    \n",
        "    # Calculamos os valores da curva de aprendizado, acrescentando os dados de 10 em 10 %\n",
        "    sizes = [0.1, 0.2, 0.3, 0.4, 0.5, 0.6, 0.7, 0.8, 0.9, 1]\n",
        "    cv = ShuffleSplit(n_splits=10, test_size=0.2, train_size=0.8, random_state=0) #dados de teste 20%\n",
        "    points, score_in, score_out = learning_curve(estimator, X, y, train_sizes=sizes, cv=cv)\n",
        "\n",
        "    # Tiramos a média e o desvio padrão de cada sequência de testes. \n",
        "    # Por padrão é feita validação cruzada em 3 conjuntos de dados.\n",
        "    mean_in = np.mean(score_in, axis=1)\n",
        "    std_in = np.std(score_in, axis=1)\n",
        "    mean_out = np.mean(score_out, axis=1)\n",
        "    std_out = np.std(score_out, axis=1)\n",
        "    # O desempenho de treinamento fica em vermelho e o de validação em verde\n",
        "    plt.plot(points, mean_in, 'o-', color='red', label='Treinamento')\n",
        "    plt.plot(points, mean_out, 'o-', color='green', label='Teste')\n",
        "    # Os desvios ficam ao redor das linhas para indicar a variação no aprendizado\n",
        "    plt.fill_between(points, mean_in - std_in,\n",
        "                     mean_in + std_in, color='red', alpha=0.1)\n",
        "    plt.fill_between(points, mean_out - std_out,\n",
        "                     mean_out + std_out, color='green', alpha=0.1)\n",
        "    plt.legend()\n",
        "    return plt"
      ],
      "execution_count": null,
      "outputs": []
    },
    {
      "cell_type": "code",
      "metadata": {
        "id": "tCf2hU3M6PPa"
      },
      "source": [
        "tweets = dfTweet.Text\n",
        "classes = dfTweet.Classificacao"
      ],
      "execution_count": null,
      "outputs": []
    },
    {
      "cell_type": "code",
      "metadata": {
        "id": "kTPTXIj6MP_B",
        "outputId": "604f8d20-6805-4638-f36a-9c4ea72acac0",
        "colab": {
          "base_uri": "https://localhost:8080/",
          "height": 429
        }
      },
      "source": [
        "plot_learning_curve(modeloNB,Vetor_comentarios,classes, cv=None)"
      ],
      "execution_count": null,
      "outputs": [
        {
          "output_type": "execute_result",
          "data": {
            "text/plain": [
              "<module 'matplotlib.pyplot' from '/usr/local/lib/python3.6/dist-packages/matplotlib/pyplot.py'>"
            ]
          },
          "metadata": {
            "tags": []
          },
          "execution_count": 313
        },
        {
          "output_type": "display_data",
          "data": {
            "image/png": "[encoded data removed]",
            "text/plain": [
              "<Figure size 720x432 with 1 Axes>"
            ]
          },
          "metadata": {
            "tags": [],
            "needs_background": "light"
          }
        }
      ]
    },
    {
      "cell_type": "markdown",
      "metadata": {
        "id": "lub_6e6qNgij"
      },
      "source": [
        "## Dividindo dados de treinamento e teste"
      ]
    },
    {
      "cell_type": "code",
      "metadata": {
        "id": "ahmQIFr8Nl7y"
      },
      "source": [
        "from sklearn.model_selection import train_test_split\n",
        "X_train, X_test, y_train, y_test = train_test_split(Vetor_comentarios,\n",
        "                                                    classes,\n",
        "                                                    stratify=classes,\n",
        "                                                    test_size=0.20)"
      ],
      "execution_count": null,
      "outputs": []
    },
    {
      "cell_type": "code",
      "metadata": {
        "id": "63rX-ROmdxlb"
      },
      "source": [
        "modeloNB.fit(X_train, y_train) # Treinando o classificador\n",
        "pred = modeloNB.predict(X_test)  # predizendodados de teste"
      ],
      "execution_count": null,
      "outputs": []
    },
    {
      "cell_type": "code",
      "metadata": {
        "id": "Myr_AEw7ePM2",
        "outputId": "403733e4-27e3-4056-f5b1-ea8481db5618",
        "colab": {
          "base_uri": "https://localhost:8080/"
        }
      },
      "source": [
        "# imprimir a acurácia do modelo\n",
        "from sklearn import metrics\n",
        "print(\"Acurácia: {:.4f}\\n\".format(metrics.accuracy_score(y_test, pred)))"
      ],
      "execution_count": null,
      "outputs": [
        {
          "output_type": "stream",
          "text": [
            "Acurácia: 0.9428\n",
            "\n"
          ],
          "name": "stdout"
        }
      ]
    },
    {
      "cell_type": "code",
      "metadata": {
        "id": "hJnySnbuAfy-",
        "outputId": "9ef52dd3-f569-4327-985e-1da3eb5cc52a",
        "colab": {
          "base_uri": "https://localhost:8080/"
        }
      },
      "source": [
        "\"\"\"##**MÉTRICAS**\"\"\"\n",
        "print(metrics.classification_report(y_test,pred, classesPadrao))"
      ],
      "execution_count": null,
      "outputs": [
        {
          "output_type": "stream",
          "text": [
            "              precision    recall  f1-score   support\n",
            "\n",
            "    Positivo       0.98      0.97      0.98       568\n",
            "    Negativo       0.83      0.96      0.89       190\n",
            "      Neutro       0.96      0.89      0.92       395\n",
            "\n",
            "    accuracy                           0.94      1153\n",
            "   macro avg       0.92      0.94      0.93      1153\n",
            "weighted avg       0.95      0.94      0.94      1153\n",
            "\n"
          ],
          "name": "stdout"
        }
      ]
    },
    {
      "cell_type": "markdown",
      "metadata": {
        "id": "a4OZ_1BcL4K2"
      },
      "source": [
        "## Validação cruzada"
      ]
    },
    {
      "cell_type": "code",
      "metadata": {
        "id": "t3focnFj_vyK"
      },
      "source": [
        "from sklearn.model_selection import cross_val_predict, cross_val_score\n",
        "from sklearn.model_selection import learning_curve\n",
        "from sklearn.metrics import f1_score\n",
        "from sklearn.metrics import matthews_corrcoef"
      ],
      "execution_count": null,
      "outputs": []
    },
    {
      "cell_type": "code",
      "metadata": {
        "id": "AVFT3QJa9wCB",
        "outputId": "89c5cad0-c46f-468d-9923-04f7055424b8",
        "colab": {
          "base_uri": "https://localhost:8080/"
        }
      },
      "source": [
        "cross_predito = cross_val_predict(modeloNB,Vetor_comentarios,classes,cv=10)\n",
        "print(\"Acurácia: {:.4f}\\n\".format(metrics.accuracy_score(classes,cross_predito)))"
      ],
      "execution_count": null,
      "outputs": [
        {
          "output_type": "stream",
          "text": [
            "Acurácia: 0.8659\n",
            "\n"
          ],
          "name": "stdout"
        }
      ]
    },
    {
      "cell_type": "code",
      "metadata": {
        "id": "NAY9AwsHfqEt",
        "outputId": "d1b88d6e-49ea-41c4-8da7-57a95d5f3b17",
        "colab": {
          "base_uri": "https://localhost:8080/"
        }
      },
      "source": [
        "\"\"\"##**MÉTRICAS**\"\"\"\n",
        "print(metrics.classification_report(classes,cross_predito, classesPadrao))"
      ],
      "execution_count": null,
      "outputs": [
        {
          "output_type": "stream",
          "text": [
            "              precision    recall  f1-score   support\n",
            "\n",
            "    Positivo       0.96      0.88      0.92      2840\n",
            "    Negativo       0.71      0.92      0.80       951\n",
            "      Neutro       0.84      0.82      0.83      1974\n",
            "\n",
            "    accuracy                           0.87      5765\n",
            "   macro avg       0.84      0.87      0.85      5765\n",
            "weighted avg       0.88      0.87      0.87      5765\n",
            "\n"
          ],
          "name": "stdout"
        }
      ]
    },
    {
      "cell_type": "markdown",
      "metadata": {
        "id": "h2H5A-J1C3tZ"
      },
      "source": [
        "## MÉTRICAS DE DESEMPENHO DO MODELO"
      ]
    },
    {
      "cell_type": "markdown",
      "metadata": {
        "id": "RT9Ba57vCJVH"
      },
      "source": [
        "## Matriz de Confusão"
      ]
    },
    {
      "cell_type": "code",
      "metadata": {
        "id": "T8V0nPe0B7-V",
        "outputId": "77fb8449-2e8c-4cbb-fb38-d7a083a82e65",
        "colab": {
          "base_uri": "https://localhost:8080/"
        }
      },
      "source": [
        "!pip install scikit-plot\n",
        "import scikitplot as skplt\n",
        "from sklearn.metrics import confusion_matrix"
      ],
      "execution_count": null,
      "outputs": [
        {
          "output_type": "stream",
          "text": [
            "Requirement already satisfied: scikit-plot in /usr/local/lib/python3.6/dist-packages (0.3.7)\n",
            "Requirement already satisfied: matplotlib>=1.4.0 in /usr/local/lib/python3.6/dist-packages (from scikit-plot) (3.2.2)\n",
            "Requirement already satisfied: scipy>=0.9 in /usr/local/lib/python3.6/dist-packages (from scikit-plot) (1.4.1)\n",
            "Requirement already satisfied: scikit-learn>=0.18 in /usr/local/lib/python3.6/dist-packages (from scikit-plot) (0.22.2.post1)\n",
            "Requirement already satisfied: joblib>=0.10 in /usr/local/lib/python3.6/dist-packages (from scikit-plot) (0.17.0)\n",
            "Requirement already satisfied: kiwisolver>=1.0.1 in /usr/local/lib/python3.6/dist-packages (from matplotlib>=1.4.0->scikit-plot) (1.2.0)\n",
            "Requirement already satisfied: pyparsing!=2.0.4,!=2.1.2,!=2.1.6,>=2.0.1 in /usr/local/lib/python3.6/dist-packages (from matplotlib>=1.4.0->scikit-plot) (2.4.7)\n",
            "Requirement already satisfied: numpy>=1.11 in /usr/local/lib/python3.6/dist-packages (from matplotlib>=1.4.0->scikit-plot) (1.18.5)\n",
            "Requirement already satisfied: python-dateutil>=2.1 in /usr/local/lib/python3.6/dist-packages (from matplotlib>=1.4.0->scikit-plot) (2.8.1)\n",
            "Requirement already satisfied: cycler>=0.10 in /usr/local/lib/python3.6/dist-packages (from matplotlib>=1.4.0->scikit-plot) (0.10.0)\n",
            "Requirement already satisfied: six>=1.5 in /usr/local/lib/python3.6/dist-packages (from python-dateutil>=2.1->matplotlib>=1.4.0->scikit-plot) (1.15.0)\n"
          ],
          "name": "stdout"
        }
      ]
    },
    {
      "cell_type": "code",
      "metadata": {
        "id": "c7e1JMp-BAMj",
        "outputId": "c0fa9645-c424-4dd5-9e6a-2fa00c86f7c4",
        "colab": {
          "base_uri": "https://localhost:8080/",
          "height": 312
        }
      },
      "source": [
        "\"\"\"##**MATRIZ DE CONFUSÃO**\"\"\"\n",
        "skplt.metrics.plot_confusion_matrix(y_true=classes,\n",
        "                                    y_pred = cross_predito,\n",
        "                                    title=\"Matriz de Confusão\",\n",
        "                                    figsize=(8,4))"
      ],
      "execution_count": null,
      "outputs": [
        {
          "output_type": "execute_result",
          "data": {
            "text/plain": [
              "<matplotlib.axes._subplots.AxesSubplot at 0x7fc68c8463c8>"
            ]
          },
          "metadata": {
            "tags": []
          },
          "execution_count": 322
        },
        {
          "output_type": "display_data",
          "data": {
            "image/png": "[encoded data removed]",
            "text/plain": [
              "<Figure size 576x288 with 2 Axes>"
            ]
          },
          "metadata": {
            "tags": [],
            "needs_background": "light"
          }
        }
      ]
    }
  ]
}